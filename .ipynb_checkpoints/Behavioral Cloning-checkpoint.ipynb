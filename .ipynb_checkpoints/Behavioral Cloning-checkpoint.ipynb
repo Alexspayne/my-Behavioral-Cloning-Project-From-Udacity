{
 "cells": [
  {
   "cell_type": "markdown",
   "metadata": {
    "deletable": true,
    "editable": true
   },
   "source": [
    "# CarND Behavioral Cloning Project 3\n",
    "Here I'll step the code I wrote to tackle this project."
   ]
  },
  {
   "cell_type": "markdown",
   "metadata": {
    "deletable": true,
    "editable": true
   },
   "source": [
    "## Loading the data\n",
    "I'm starting with just a few images to keep myself from getting overwhelmed.  This project is a challenge!"
   ]
  },
  {
   "cell_type": "code",
   "execution_count": null,
   "metadata": {
    "collapsed": false,
    "deletable": true,
    "editable": true
   },
   "outputs": [
    {
     "name": "stderr",
     "output_type": "stream",
     "text": [
      "/home/alex/miniconda3/envs/carnd-term1/lib/python3.5/site-packages/matplotlib/font_manager.py:280: UserWarning: Matplotlib is building the font cache using fc-list. This may take a moment.\n",
      "  'Matplotlib is building the font cache using fc-list. '\n"
     ]
    }
   ],
   "source": [
    "from matplotlib.pyplot import imshow\n",
    "import matplotlib.pyplot as plt\n",
    "import numpy as np\n",
    "from scipy import ndimage\n",
    "from PIL import Image\n",
    "import csv\n",
    "\n",
    "%matplotlib inline"
   ]
  },
  {
   "cell_type": "code",
   "execution_count": null,
   "metadata": {
    "collapsed": false,
    "deletable": true,
    "editable": true
   },
   "outputs": [],
   "source": [
    "#Getting data from the first run.\n",
    "with open('data/run1/driving_log.csv') as csvfile:\n",
    "    logreader = csv.DictReader(csvfile,fieldnames=['center','left','right','steering','throttle','brake','speed'])\n",
    "    file_paths = []\n",
    "    steering_angles = []\n",
    "    for row in logreader:\n",
    "        file_paths.append(row['center'])\n",
    "        steering_angles.append(row['steering'])\n",
    "\n",
    "print(len(file_paths))\n",
    "\n",
    "print(len(steering_angles))"
   ]
  },
  {
   "cell_type": "code",
   "execution_count": null,
   "metadata": {
    "collapsed": true,
    "deletable": true,
    "editable": true
   },
   "outputs": [],
   "source": [
    "'''\n",
    "367 - negative angle\n",
    "/home/alex/SelfDriving/CarND-Behavioral-Cloning-P3/IMG/center_2017_02_05_19_03_25_616.jpg,,,-0.1320755,0.4,0,30.03791\n",
    "\n",
    "820 - positive angle\n",
    "/home/alex/SelfDriving/CarND-Behavioral-Cloning-P3/IMG/center_2017_02_05_19_03_59_950.jpg,,,0.1698113,0.4,0,30.03462\n",
    "\n",
    "2410- no turn\n",
    "/home/alex/SelfDriving/CarND-Behavioral-Cloning-P3/IMG/center_2017_02_05_19_06_31_005.jpg,,,0,0.4,0,30.03838\n",
    "'''\n",
    "\n",
    "'''\n",
    "Now I'm actually loading one whole run\n",
    "'''\n",
    "from os import path\n",
    "import numpy as np\n",
    "X_train = []\n",
    "y_train = []\n",
    "for image_index in range(len(file_paths)):\n",
    "    image_array = ndimage.imread(\"\".join(['./data/run1/IMG/',path.basename(file_paths[image_index])]))\n",
    "    X_train.append(image_array)\n",
    "    angle = steering_angles[image_index]\n",
    "    y_train.append(angle)\n",
    "    "
   ]
  },
  {
   "cell_type": "code",
   "execution_count": null,
   "metadata": {
    "collapsed": false,
    "deletable": true,
    "editable": true
   },
   "outputs": [],
   "source": [
    "for image, label in zip(X_train[0:10], y_train[0:10]):\n",
    "    fig = plt.figure()\n",
    "    to_show = Image.fromarray(image)\n",
    "    imshow(np.asarray(to_show))\n",
    "    ax = fig.axes[0]\n",
    "    ax.set_title('Steering Angle: ' + str(label))\n",
    "    \n"
   ]
  },
  {
   "cell_type": "code",
   "execution_count": null,
   "metadata": {
    "collapsed": true,
    "deletable": true,
    "editable": true
   },
   "outputs": [],
   "source": [
    "# Convert to an ndarray\n",
    "X_train = np.array(X_train)\n",
    "y_train = np.array(y_train)"
   ]
  },
  {
   "cell_type": "code",
   "execution_count": null,
   "metadata": {
    "collapsed": false,
    "deletable": true,
    "editable": true
   },
   "outputs": [],
   "source": [
    "# shuffle the data\n",
    "from sklearn.utils import shuffle\n",
    "\n",
    "X_train, y_train = shuffle(X_train, y_train)"
   ]
  },
  {
   "cell_type": "markdown",
   "metadata": {
    "deletable": true,
    "editable": true
   },
   "source": [
    "## Modeling the network architecture \n",
    "The network is modeled after [NVidia's network](http://images.nvidia.com/content/tegra/automotive/images/2016/solutions/pdf/end-to-end-dl-using-px.pdf)"
   ]
  },
  {
   "cell_type": "code",
   "execution_count": null,
   "metadata": {
    "collapsed": false,
    "deletable": true,
    "editable": true
   },
   "outputs": [],
   "source": [
    "from keras.models import Sequential\n",
    "from keras.layers.core import Dense, Activation, Flatten\n",
    "from keras.layers.convolutional import Convolution2D\n",
    "# Taking a shot in the dark with this one: (Haven't read the doc)\n",
    "from keras.layers.normalization import BatchNormalization\n",
    "model = Sequential()\n",
    "# TODO: Build a Multi-layer feedforward neural network with Keras here.\n",
    "\n",
    "# Normalization layer will go here once I figure that out.\n",
    "model.add(BatchNormalization(input_shape=(160,320,3)))\n",
    "# Conv layers exactly from paper\n",
    "\n",
    "model.add(Convolution2D(24,5,5))\n",
    "model.add(Activation('relu'))\n",
    "model.add(Convolution2D(36,5,5))\n",
    "model.add(Activation('relu'))\n",
    "model.add(Convolution2D(48,5,5))\n",
    "model.add(Activation('relu'))\n",
    "model.add(Convolution2D(64,3,3))\n",
    "model.add(Activation('relu'))\n",
    "model.add(Convolution2D(64,3,3))\n",
    "model.add(Activation('relu'))\n",
    "\n",
    "# Flatten after all the conv layers\n",
    "model.add(Flatten())\n",
    "\n",
    "# Fully connected layers exactly as the paper had.\n",
    "# They didn't show any activations...?\n",
    "model.add(Dense(100))\n",
    "model.add(Activation('relu'))\n",
    "model.add(Dense(50))\n",
    "model.add(Activation('relu'))\n",
    "model.add(Dense(10))\n",
    "model.add(Activation('relu'))\n",
    "\n",
    "#The final layer has an output of 1, because we want one steering angle\n",
    "model.add(Dense(1))\n",
    "\n",
    "# I don't think this is necessary but I'll leave it here incase.\n",
    "# model.add(Activation('softmax'))"
   ]
  },
  {
   "cell_type": "markdown",
   "metadata": {
    "deletable": true,
    "editable": true
   },
   "source": [
    "## Train the model\n",
    "I'm starting with the same error measure as the paper."
   ]
  },
  {
   "cell_type": "code",
   "execution_count": null,
   "metadata": {
    "collapsed": false,
    "deletable": true,
    "editable": true
   },
   "outputs": [],
   "source": [
    "model.compile('adam', 'mean_squared_error', ['accuracy'])\n",
    "%time\n",
    "history = model.fit(X_train, y_train, batch_size=2, nb_epoch=1, validation_split=0, verbose=2)"
   ]
  },
  {
   "cell_type": "code",
   "execution_count": null,
   "metadata": {
    "collapsed": true,
    "deletable": true,
    "editable": true
   },
   "outputs": [],
   "source": []
  }
 ],
 "metadata": {
  "kernelspec": {
   "display_name": "Python 3",
   "language": "python",
   "name": "python3"
  },
  "language_info": {
   "codemirror_mode": {
    "name": "ipython",
    "version": 3
   },
   "file_extension": ".py",
   "mimetype": "text/x-python",
   "name": "python",
   "nbconvert_exporter": "python",
   "pygments_lexer": "ipython3",
   "version": "3.5.2"
  },
  "widgets": {
   "state": {},
   "version": "1.1.2"
  }
 },
 "nbformat": 4,
 "nbformat_minor": 2
}
